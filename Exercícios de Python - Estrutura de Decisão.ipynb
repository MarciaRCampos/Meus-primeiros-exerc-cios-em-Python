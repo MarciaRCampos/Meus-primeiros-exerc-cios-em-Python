{
 "cells": [
  {
   "cell_type": "code",
   "execution_count": 4,
   "metadata": {},
   "outputs": [
    {
     "name": "stdout",
     "output_type": "stream",
     "text": [
      "Digite um número inteiro: 6\n",
      "Digite outro número inteiro: 9\n",
      "O número 9 é maior que o número 6.\n"
     ]
    }
   ],
   "source": [
    "# 1.Faça um Programa que peça dois números e imprima o maior deles.\n",
    "\n",
    "n1 = int(input('Digite um número inteiro: '))\n",
    "n2 = int(input('Digite outro número inteiro: '))\n",
    "\n",
    "if n1 > n2:\n",
    "    print(f'O número {n1} é maior que o número {n2}.')\n",
    "else:\n",
    "    print(f'O número {n2} é maior que o número {n1}.')\n",
    "    "
   ]
  },
  {
   "cell_type": "code",
   "execution_count": 11,
   "metadata": {},
   "outputs": [
    {
     "name": "stdout",
     "output_type": "stream",
     "text": [
      "Digite um número pertencente ao conjunto dos números inteiros (Z).-2\n",
      "O número -2 é um número negativo.\n"
     ]
    }
   ],
   "source": [
    "# 2.Faça um Programa que peça um valor e mostre na tela se o valor é positivo ou negativo.\n",
    "\n",
    "n = int(input('Digite um número pertencente ao conjunto dos números inteiros (Z).'))\n",
    "\n",
    "if n < 0:\n",
    "    print(f'O número {n} é um número negativo.')\n",
    "else:\n",
    "    print(f'O número {n} é um número positivo.')"
   ]
  },
  {
   "cell_type": "code",
   "execution_count": 27,
   "metadata": {},
   "outputs": [
    {
     "name": "stdout",
     "output_type": "stream",
     "text": [
      "Digite a letra F para sexo feminino ou a letra M para sexo masculino: F\n",
      "F - Feminino.\n"
     ]
    }
   ],
   "source": [
    "# 3.Faça um Programa que verifique se uma letra digitada é \"F\" ou \"M\". Conforme a letra escrever: F - Feminino, M - Masculino, Sexo Inválido.\n",
    "\n",
    "n = input('Digite a letra F para sexo feminino ou a letra M para sexo masculino: ')\n",
    "\n",
    "if n == 'F':\n",
    "    print('F - Feminino.')\n",
    "elif n == 'M':\n",
    "    print('M - Masculino.')\n",
    "else:\n",
    "    print('Sexo Inválido.')"
   ]
  },
  {
   "cell_type": "code",
   "execution_count": 38,
   "metadata": {},
   "outputs": [
    {
     "name": "stdout",
     "output_type": "stream",
     "text": [
      "Digite uma letra qualquer do nosso alfabeto (minúsculo): u\n",
      "A letra u é uma vogal.\n"
     ]
    }
   ],
   "source": [
    "# 4.Faça um Programa que verifique se uma letra digitada é vogal ou consoante.\n",
    "\n",
    "letra = input('Digite uma letra qualquer do nosso alfabeto (minúsculo): ')\n",
    "\n",
    "if letra == 'a' or letra == 'e' or letra == 'i' or letra == 'o' or letra == 'u':\n",
    "    print(f'A letra {letra} é uma vogal.')\n",
    "else:\n",
    "    print(f'A letra {letra} é uma consoante.')"
   ]
  },
  {
   "cell_type": "code",
   "execution_count": 46,
   "metadata": {},
   "outputs": [
    {
     "name": "stdout",
     "output_type": "stream",
     "text": [
      "Digite a primeira nota: 3\n",
      "Digite a segunda nota: 7\n",
      "Reprovado.\n"
     ]
    }
   ],
   "source": [
    "# 5.Faça um programa para a leitura de duas notas parciais de um aluno.\n",
    "#O programa deve calcular a média alcançada por aluno e apresentar:\n",
    "#A mensagem \"Aprovado\", se a média alcançada for maior ou igual a sete;\n",
    "#A mensagem \"Reprovado\", se a média for menor do que sete;\n",
    "#A mensagem \"Aprovado com Distinção\", se a média for igual a dez.\n",
    "\n",
    "n1 = float(input('Digite a primeira nota: '))\n",
    "n2 = float(input('Digite a segunda nota: '))\n",
    "\n",
    "if (n1 + n2)/2 >= 7 and (n1 + n2)/2 < 10:\n",
    "    print('Aprovado.')\n",
    "elif (n1 + n2)/2 < 7:     \n",
    "    print('Reprovado.')\n",
    "elif (n1 + n2)/2 == 10: \n",
    "    print('Aprovado com Distinção.')"
   ]
  },
  {
   "cell_type": "code",
   "execution_count": 50,
   "metadata": {},
   "outputs": [
    {
     "name": "stdout",
     "output_type": "stream",
     "text": [
      "Digite o primeiro número inteiro: 9\n",
      "Digite o segundo número inteiro:7\n",
      "Digite o terceiro número inteiro: 10\n",
      "O número 10 é o maior.\n"
     ]
    }
   ],
   "source": [
    "# 6.Faça um Programa que leia três números e mostre o maior deles.\n",
    "\n",
    "n1 = int(input('Digite o primeiro número inteiro: '))\n",
    "n2 = int(input('Digite o segundo número inteiro:'))\n",
    "n3 = int(input('Digite o terceiro número inteiro: '))\n",
    "\n",
    "if n1 > n2 and n1 > n3:\n",
    "    print(f'O número {n1} é o maior entre os três números.')\n",
    "elif n2 > n1 and n2 > n3:\n",
    "    print(f'O número {n2} é o maior entre os três númores.')\n",
    "else:\n",
    "    print(f'O número {n3} é o maior.')\n",
    "    \n"
   ]
  },
  {
   "cell_type": "code",
   "execution_count": 53,
   "metadata": {},
   "outputs": [
    {
     "name": "stdout",
     "output_type": "stream",
     "text": [
      "Digite o primeiro número inteiro: 5\n",
      "Digite o segundo número inteiro: 6\n",
      "Digite o terceiro número inteiro: 3\n",
      "O menor valor digitado foi 3.\n",
      "O maior valor digitado foi 6.\n"
     ]
    }
   ],
   "source": [
    "# 7.Faça um Programa que leia três números e mostre o maior e o menor deles.\n",
    "\n",
    "n1 = int(input('Digite o primeiro número inteiro: '))\n",
    "n2 = int(input('Digite o segundo número inteiro: '))\n",
    "n3 = int(input('Digite o terceiro número inteiro: '))\n",
    "\n",
    "menor = n1\n",
    "\n",
    "if n2 < n1 and n2 < n3:\n",
    "    menor = n1\n",
    "if n3 < n1 and n3 < n2:\n",
    "    menor = n3\n",
    "    \n",
    "maior = n1\n",
    "\n",
    "if n2 > n1 and n2 > n3:\n",
    "    maior = n2\n",
    "if n3 > n1 and n3 > n2:\n",
    "    maior = n3 \n",
    "print(f'O menor valor digitado foi {menor}.') \n",
    "print(f'O maior valor digitado foi {maior}.')\n",
    "     \n"
   ]
  }
 ],
 "metadata": {
  "kernelspec": {
   "display_name": "Python 3",
   "language": "python",
   "name": "python3"
  },
  "language_info": {
   "codemirror_mode": {
    "name": "ipython",
    "version": 3
   },
   "file_extension": ".py",
   "mimetype": "text/x-python",
   "name": "python",
   "nbconvert_exporter": "python",
   "pygments_lexer": "ipython3",
   "version": "3.6.4"
  }
 },
 "nbformat": 4,
 "nbformat_minor": 2
}
