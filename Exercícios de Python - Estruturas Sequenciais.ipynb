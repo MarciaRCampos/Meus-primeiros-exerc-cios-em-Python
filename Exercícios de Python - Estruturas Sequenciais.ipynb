{
 "cells": [
  {
   "cell_type": "code",
   "execution_count": 1,
   "metadata": {},
   "outputs": [
    {
     "name": "stdout",
     "output_type": "stream",
     "text": [
      "Olá mundo!\n"
     ]
    }
   ],
   "source": [
    "print('Olá mundo!')"
   ]
  },
  {
   "cell_type": "code",
   "execution_count": 2,
   "metadata": {},
   "outputs": [
    {
     "name": "stdout",
     "output_type": "stream",
     "text": [
      "Digite um número inteiro: 9\n",
      "O número informado foi => 9\n"
     ]
    }
   ],
   "source": [
    "#Faça um Programa que peça um número e então mostre a mensagem O número informado foi [número].\n",
    "\n",
    "numero = int(input('Digite um número inteiro: '))\n",
    "\n",
    "print('O número informado foi =>', numero)"
   ]
  },
  {
   "cell_type": "code",
   "execution_count": 3,
   "metadata": {},
   "outputs": [
    {
     "name": "stdout",
     "output_type": "stream",
     "text": [
      "Digite um número qualquer: 3\n",
      "Diginte mais um número qualquer: 4\n",
      "A soma dos dois números é:  7.0\n"
     ]
    }
   ],
   "source": [
    "#Faça um Programa que peça dois números e imprima a soma.\n",
    "\n",
    "n1 = float(input('Digite um número qualquer: '))\n",
    "n2 = float(input('Diginte mais um número qualquer: '))\n",
    "\n",
    "print('A soma dos dois números é: ', n1 + n2)"
   ]
  },
  {
   "cell_type": "code",
   "execution_count": 7,
   "metadata": {},
   "outputs": [
    {
     "name": "stdout",
     "output_type": "stream",
     "text": [
      "Digite a primeira nota: 9\n",
      "Digite a segunda nota: 9\n",
      "Digite a terceira nota: 9\n",
      "Digite a quarta nota: 8\n",
      "A média é:  8.75\n"
     ]
    }
   ],
   "source": [
    "#Faça um Programa que peça as 4 notas bimestrais e mostre a média.\n",
    "\n",
    "nota1 = float(input('Digite a primeira nota: '))\n",
    "nota2 = float(input('Digite a segunda nota: '))\n",
    "nota3 = float(input('Digite a terceira nota: '))\n",
    "nota4 = float(input('Digite a quarta nota: '))\n",
    "\n",
    "print('A média é: ', (nota1 + nota2 + nota3 + nota4) / 4)"
   ]
  },
  {
   "cell_type": "code",
   "execution_count": 1,
   "metadata": {},
   "outputs": [
    {
     "name": "stdout",
     "output_type": "stream",
     "text": [
      "Digite o valor em metros:2.8\n",
      "O valor em centimetros é =>  280.0\n"
     ]
    }
   ],
   "source": [
    "#Faça um Programa que converta metros para centímetros.\n",
    "\n",
    "m = float(input('Digite o valor em metros:'))\n",
    "\n",
    "print('O valor em centimetros é => ', m * 100)"
   ]
  },
  {
   "cell_type": "code",
   "execution_count": 8,
   "metadata": {},
   "outputs": [
    {
     "name": "stdout",
     "output_type": "stream",
     "text": [
      "Digite o raio do círculo: 3\n",
      "A área do circulo é:  28.26\n"
     ]
    }
   ],
   "source": [
    "#Faça um Programa que peça o raio de um círculo, calcule e mostre sua área.\n",
    "\n",
    "r = float(input('Digite o raio do círculo: '))\n",
    "\n",
    "print('A área do circulo é: ', 3.14 * (r**2) )"
   ]
  },
  {
   "cell_type": "code",
   "execution_count": 12,
   "metadata": {},
   "outputs": [
    {
     "name": "stdout",
     "output_type": "stream",
     "text": [
      "Digite o lado do quadrado: 2\n",
      "A área do quadrado é: 4.0\n",
      "E o dobro da área é: 8.0\n"
     ]
    }
   ],
   "source": [
    "#Faça um Programa que calcule a área de um quadrado, em seguida mostre o dobro desta área para o usuário.\n",
    "\n",
    "l = float(input('Digite o lado do quadrado: '))\n",
    "\n",
    "print('A área do quadrado é:', l * l)\n",
    "print('E o dobro da área é:', (l * l) * 2)\n"
   ]
  },
  {
   "cell_type": "code",
   "execution_count": 15,
   "metadata": {},
   "outputs": [
    {
     "name": "stdout",
     "output_type": "stream",
     "text": [
      "Quanto você ganha por hora? 6\n",
      "Quantas horas você trabalhou nesse mês: 6\n",
      "Nesse mês você receberá => 36.0 reais\n"
     ]
    }
   ],
   "source": [
    "#Faça um Programa que pergunte quanto você ganha por hora e o número de horas trabalhadas no mês. Calcule e mostre o total do seu salário no referido mês.\n",
    "\n",
    "h1 = float(input('Quanto você ganha por hora? '))\n",
    "h2 = float(input('Quantas horas você trabalhou nesse mês: '))\n",
    "\n",
    "print('Nesse mês você receberá =>', h1 * h2, 'reais')"
   ]
  },
  {
   "cell_type": "code",
   "execution_count": 23,
   "metadata": {},
   "outputs": [
    {
     "name": "stdout",
     "output_type": "stream",
     "text": [
      "Qual a temperatura em graus Farenheit? 90\n",
      "A temperatura em graus Celsius é de: 32.22222222222222\n"
     ]
    }
   ],
   "source": [
    "#Faça um Programa que peça a temperatura em graus Farenheit, transforme e mostre a temperatura em graus Celsius.\n",
    "#C = (5 * (F-32) / 9).\n",
    "\n",
    "\n",
    "f = float(input('Qual a temperatura em graus Farenheit? '))\n",
    "\n",
    "print('A temperatura em graus Celsius é de:', 5 * (f - 32) / 9)"
   ]
  },
  {
   "cell_type": "code",
   "execution_count": 27,
   "metadata": {},
   "outputs": [
    {
     "name": "stdout",
     "output_type": "stream",
     "text": [
      "Qual é a temperatura em graus Celsius? 38.5\n",
      "A temperatura em graus Farenheit é de: 101.3\n"
     ]
    }
   ],
   "source": [
    "#Faça um Programa que peça a temperatura em graus Celsius, transforme e mostre em graus Farenheit.\n",
    "\n",
    "c = float(input('Qual é a temperatura em graus Celsius? '))\n",
    "\n",
    "print('A temperatura em graus Farenheit é de:', (c * 9 / 5) + 32)"
   ]
  },
  {
   "cell_type": "code",
   "execution_count": 38,
   "metadata": {},
   "outputs": [
    {
     "name": "stdout",
     "output_type": "stream",
     "text": [
      "Digite um número inteiro: 2\n",
      "Digite outro número inteiro: 3\n",
      "Digite um número real: 4\n",
      "Este é o produto do dobro do primeiro com metade do segundo 6.0\n",
      "Esta é a soma do triplo do primeiro com o terceiro 10.0\n",
      "Este é o terceiro elevado ao cubo 64.0\n"
     ]
    }
   ],
   "source": [
    "#Faça um Programa que peça 2 números inteiros e um número real. Calcule e mostre:\n",
    "#o produto do dobro do primeiro com metade do segundo .\n",
    "#a soma do triplo do primeiro com o terceiro.\n",
    "#o terceiro elevado ao cubo.\n",
    "\n",
    "nint1 = int(input('Digite um número inteiro: '))\n",
    "nint2 = int(input('Digite outro número inteiro: '))\n",
    "nfloat1 = float(input('Digite um número real: '))\n",
    "\n",
    "print('Este é o produto do dobro do primeiro com metade do segundo', (nint1 * 2) * (nint2 / 2))\n",
    "print('Esta é a soma do triplo do primeiro com o terceiro', (nint1 * 3) + nfloat1)\n",
    "print('Este é o terceiro elevado ao cubo', nfloat1**3)"
   ]
  },
  {
   "cell_type": "code",
   "execution_count": 1,
   "metadata": {},
   "outputs": [
    {
     "name": "stdout",
     "output_type": "stream",
     "text": [
      "Digite sua altura: 1.7\n",
      "Seu peso ideal é 65.59\n"
     ]
    }
   ],
   "source": [
    "#Tendo como dados de entrada a altura de uma pessoa, construa um algoritmo que calcule seu peso ideal, usando a seguinte fórmula: (72.7*altura) - 58\n",
    "\n",
    "altura = float(input('Digite sua altura: '))\n",
    "\n",
    "print('Seu peso ideal é', (72.7 * altura) - 58)"
   ]
  },
  {
   "cell_type": "code",
   "execution_count": 1,
   "metadata": {},
   "outputs": [
    {
     "name": "stdout",
     "output_type": "stream",
     "text": [
      "Digite seu sexo:\n",
      " (F) Para Feminino \n",
      " (M) Para Masculino \n",
      "F\n",
      "Digite sua altura: 1.70\n",
      "Seu peso ideal é 60.86999999999999\n"
     ]
    }
   ],
   "source": [
    "#Tendo como dado de entrada a altura (h) de uma pessoa, construa um algoritmo que calcule seu peso ideal, utilizando as seguintes fórmulas:\n",
    "#Para homens: (72.7*h) - 58\n",
    "#Para mulheres: (62.1*h) - 44.7\n",
    "\n",
    "sexo = input('Digite seu sexo:\\n (F) Para Feminino \\n (M) Para Masculino \\n')\n",
    "\n",
    "if sexo == 'F':\n",
    "    hF = float(input('Digite sua altura: '))\n",
    "    print('Seu peso ideal é', (62.1 * hF) - 44.7)\n",
    "    \n",
    "elif sexo == 'M':\n",
    "    hM = float(input('Digite sua altura: '))\n",
    "    print('Seu peso ideal é', (72.7 * hM) - 58)"
   ]
  },
  {
   "cell_type": "code",
   "execution_count": 2,
   "metadata": {},
   "outputs": [
    {
     "name": "stdout",
     "output_type": "stream",
     "text": [
      "Quantos quilos você pescou hoje, João? 60\n",
      "Você excedeu 10.0 Kg do peso permitido. O valor da sua multa será de R$ 40.0\n"
     ]
    }
   ],
   "source": [
    "'''João Papo-de-Pescador, homem de bem, comprou um microcomputador para controlar o rendimento diário de seu trabalho. \n",
    "Toda vez que ele traz um peso de peixes maior que o estabelecido pelo regulamento de pesca do estado de São Paulo (50 quilos) \n",
    "deve pagar uma multa de R$ 4,00 por quilo excedente. João precisa que você faça um programa que leia a variável peso (peso de peixes)\n",
    "e calcule o excesso. Gravar na variável excesso a quantidade de quilos além do limite e na variável multa o valor da multa que João deverá pagar. \n",
    "Imprima os dados do programa com as mensagens adequadas.'''\n",
    "\n",
    "peso = float(input('Quantos quilos você pescou hoje, João? '))\n",
    "\n",
    "if peso > 50:\n",
    "    excesso = peso - 50\n",
    "    multa = excesso * 4\n",
    "    print('Você excedeu', excesso, 'Kg do peso permitido.', 'O valor da sua multa será de R$', multa)\n",
    "else:\n",
    "     print ('Você não excedeu peso hoje. Parabéns!')   \n",
    "    "
   ]
  },
  {
   "cell_type": "code",
   "execution_count": null,
   "metadata": {},
   "outputs": [],
   "source": []
  }
 ],
 "metadata": {
  "kernelspec": {
   "display_name": "Python 3",
   "language": "python",
   "name": "python3"
  },
  "language_info": {
   "codemirror_mode": {
    "name": "ipython",
    "version": 3
   },
   "file_extension": ".py",
   "mimetype": "text/x-python",
   "name": "python",
   "nbconvert_exporter": "python",
   "pygments_lexer": "ipython3",
   "version": "3.6.4"
  }
 },
 "nbformat": 4,
 "nbformat_minor": 2
}
